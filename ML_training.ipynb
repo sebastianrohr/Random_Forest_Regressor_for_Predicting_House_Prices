{
 "cells": [
  {
   "cell_type": "code",
   "metadata": {
    "cell_id": "88f2f6481701465384ce9379d9954115",
    "tags": [],
    "deepnote_to_be_reexecuted": false,
    "source_hash": "1c95eb94",
    "execution_start": 1655013770567,
    "execution_millis": 3131,
    "deepnote_cell_type": "code",
    "deepnote_cell_height": 333
   },
   "source": "from sklearn.datasets import load_iris\nfrom sklearn.tree import DecisionTreeRegressor\nfrom sklearn.tree import DecisionTreeClassifier\nfrom sklearn.ensemble import RandomForestRegressor\nfrom sklearn.tree import export_graphviz # used to visualize what a tree has learned\nfrom sklearn import metrics\nfrom sklearn.model_selection import train_test_split\n\nimport os\n\nimport pandas as pd\nimport numpy as np\nimport matplotlib.pyplot as plt\n\nrsv = 30",
   "execution_count": 1,
   "outputs": []
  },
  {
   "cell_type": "code",
   "metadata": {
    "cell_id": "cd59c19307654c3998328fe67a396183",
    "tags": [],
    "deepnote_to_be_reexecuted": false,
    "source_hash": "e43d2d2e",
    "execution_start": 1655013773727,
    "execution_millis": 309,
    "deepnote_cell_type": "code",
    "deepnote_cell_height": 423
   },
   "source": "# Our training data and test data\nX_train = pd.read_csv(\"/work/dataset_versions/splitted_dataset_without_missing_values/X_train.csv\")\nX_test = pd.read_csv(\"/work/dataset_versions/splitted_dataset_without_missing_values/X_test.csv\")\n\ny_train = pd.read_csv(\"/work/dataset_versions/splitted_dataset_without_missing_values/y_train.csv\")\ny_test = pd.read_csv(\"/work/dataset_versions/splitted_dataset_without_missing_values/y_test.csv\")\n\n##### Encoded data ###### \n\nX_train_enc = pd.read_csv(\"/work/dataset_versions/encoded_dataset/X_train_enc.csv\")\nX_test_enc = pd.read_csv(\"/work/dataset_versions/encoded_dataset/X_test_enc.csv\")\n\ny_train_enc = pd.read_csv(\"/work/dataset_versions/encoded_dataset/y_train_enc.csv\")\ny_test_enc = pd.read_csv(\"/work/dataset_versions/encoded_dataset/y_test_enc.csv\")\n\nle_df = pd.read_csv(\"/work/dataset_versions/label_encoded_data.csv\")\nX_train_le, X_test_le, y_train_le, y_test_le = train_test_split(le_df.drop('SalePrice', axis=1), le_df.SalePrice, test_size=0.20, random_state=rsv)\n\ndata7 = pd.read_csv(\"/work/dataset_versions/dataset7.csv\")\nX_train7, X_test7, y_train7, y_test7 = train_test_split(data7.drop('SalePrice', axis=1), data7.SalePrice, test_size=0.20, random_state=rsv)",
   "execution_count": 2,
   "outputs": []
  },
  {
   "cell_type": "markdown",
   "source": "# Example used in report",
   "metadata": {
    "formattedRanges": [],
    "cell_id": "48c577e9676340c681b1f4e860ca8510",
    "tags": [],
    "is_collapsed": false,
    "deepnote_cell_type": "text-cell-h1"
   }
  },
  {
   "cell_type": "code",
   "metadata": {
    "cell_id": "871454ab3d40400dbbc475dd6ddbad44",
    "tags": [],
    "deepnote_to_be_reexecuted": false,
    "source_hash": "27518a2f",
    "execution_start": 1655013774048,
    "execution_millis": 44,
    "is_output_hidden": true,
    "deepnote_cell_type": "code",
    "deepnote_cell_height": 201.796875
   },
   "source": "iris = load_iris()\nX = iris.data[:,2:]\nY = iris.target\n\ntree_clf = DecisionTreeClassifier(max_depth=3)\ntree_clf.fit(X,Y)",
   "execution_count": 3,
   "outputs": [
    {
     "output_type": "execute_result",
     "execution_count": 3,
     "data": {
      "text/plain": "DecisionTreeClassifier(max_depth=3)"
     },
     "metadata": {}
    }
   ]
  },
  {
   "cell_type": "code",
   "metadata": {
    "cell_id": "8b6b95591bf04ec09559828fa4ffff80",
    "tags": [],
    "deepnote_to_be_reexecuted": false,
    "source_hash": "315c5871",
    "execution_start": 1655013774099,
    "execution_millis": 22,
    "deepnote_cell_type": "code",
    "deepnote_cell_height": 153
   },
   "source": "# fill in the function to export a decision tree\n# see the docs: \n# https://scikit-learn.org/stable/modules/generated/sklearn.tree.export_graphviz.html\n\nexport_graphviz(decision_tree=tree_clf, out_file=\"tree.dot\", feature_names=[\"petal length (cm)\", \"petal width (cm)\"], class_names= iris.target_names, rounded=True, filled=True)",
   "execution_count": 4,
   "outputs": []
  },
  {
   "cell_type": "markdown",
   "source": "# Decision trees with our data set",
   "metadata": {
    "formattedRanges": [],
    "cell_id": "ab7ef08d92fe46f59ba1a467e4679df1",
    "tags": [],
    "is_collapsed": false,
    "deepnote_cell_type": "text-cell-h1"
   }
  },
  {
   "cell_type": "markdown",
   "source": "## Using only numerical features within top 10 MI-score features",
   "metadata": {
    "formattedRanges": [],
    "cell_id": "8a177646a0cc4b3d921586b384e4f97c",
    "tags": [],
    "is_collapsed": false,
    "deepnote_cell_type": "text-cell-h2"
   }
  },
  {
   "cell_type": "code",
   "metadata": {
    "cell_id": "426637cbe20e40e9a8b9d96620f6f44f",
    "tags": [],
    "deepnote_to_be_reexecuted": false,
    "source_hash": "deec677b",
    "execution_start": 1655013774125,
    "execution_millis": 22,
    "is_output_hidden": false,
    "deepnote_cell_type": "code",
    "deepnote_cell_height": 135
   },
   "source": "# Features does not have saleprice\nfeatures = X_train[['OverallQual','GarageArea','GrLivArea','YearBuilt','TotalBsmtSF','LotArea','GarageCars']]\n\nX1_test = X_test[['OverallQual','GarageArea','GrLivArea','YearBuilt','TotalBsmtSF','LotArea','GarageCars']]",
   "execution_count": 5,
   "outputs": []
  },
  {
   "cell_type": "code",
   "metadata": {
    "cell_id": "3c910dfe123443c5aa9fcd5b8d6dc3fe",
    "tags": [],
    "deepnote_to_be_reexecuted": false,
    "source_hash": "dfadd7ce",
    "execution_start": 1655013774192,
    "execution_millis": 1,
    "deepnote_cell_type": "code",
    "deepnote_cell_height": 136.1875,
    "deepnote_output_heights": [
     21.1875
    ]
   },
   "source": "tree_reg = DecisionTreeRegressor(max_depth=10)\ntree_reg.fit(features, y_train)",
   "execution_count": 6,
   "outputs": [
    {
     "output_type": "execute_result",
     "execution_count": 6,
     "data": {
      "text/plain": "DecisionTreeRegressor(max_depth=10)"
     },
     "metadata": {}
    }
   ]
  },
  {
   "cell_type": "code",
   "metadata": {
    "cell_id": "7eca1c71e182470a921103c79f874fb8",
    "tags": [],
    "deepnote_to_be_reexecuted": false,
    "source_hash": "2b552b7",
    "execution_start": 1655013774192,
    "execution_millis": 45,
    "is_output_hidden": false,
    "deepnote_cell_type": "code",
    "deepnote_cell_height": 224
   },
   "source": "y_pred = tree_reg.predict(X1_test)\n\nprint('Mean Absolute Error:', metrics.mean_absolute_error(y_test, y_pred))\nprint('Mean Squared Error:', metrics.mean_squared_error(y_test, y_pred))\nprint('Root Mean Squared Error:', np.sqrt(metrics.mean_squared_error(y_test, y_pred)))",
   "execution_count": 7,
   "outputs": [
    {
     "name": "stdout",
     "text": "Mean Absolute Error: 25353.562508058894\nMean Squared Error: 1392728473.0165713\nRoot Mean Squared Error: 37319.27749858739\n",
     "output_type": "stream"
    }
   ]
  },
  {
   "cell_type": "markdown",
   "source": "## Decision Tree with encoded data",
   "metadata": {
    "formattedRanges": [],
    "cell_id": "643b31a933f04c8aa9eb119dcaeacad9",
    "tags": [],
    "is_collapsed": false,
    "deepnote_cell_type": "text-cell-h2"
   }
  },
  {
   "cell_type": "code",
   "metadata": {
    "cell_id": "c686ab2cbd624ac897395360d0c15943",
    "tags": [],
    "deepnote_to_be_reexecuted": false,
    "source_hash": "d7ac4b1f",
    "execution_start": 1655013774236,
    "execution_millis": 1392,
    "deepnote_cell_type": "code",
    "deepnote_cell_height": 350
   },
   "source": "tree_reg = DecisionTreeRegressor(max_depth=7)\ntree_reg.fit(X_train_enc, y_train_enc)\ny_pred = tree_reg.predict(X_test_enc) \n\nprint('Mean Absolute Error:', metrics.mean_absolute_error(y_test_enc, y_pred))\nprint('Mean Squared Error:', metrics.mean_squared_error(y_test_enc, y_pred))\nn_sims = 100\navg = 0\nfor i in range(n_sims):\n    y_pred = tree_reg.predict(X_test_enc)\n    avg += np.sqrt(metrics.mean_squared_error(y_test_enc, y_pred))\nprint('Average Root Mean Squared Error in ', n_sims, 'simulations:', avg/n_sims)",
   "execution_count": 8,
   "outputs": [
    {
     "name": "stdout",
     "text": "Mean Absolute Error: 27339.99706833137\nMean Squared Error: 1532827284.1724157\nAverage Root Mean Squared Error in  100 simulations: 39151.3382168785\n",
     "output_type": "stream"
    }
   ]
  },
  {
   "cell_type": "markdown",
   "source": "# Random forrest regressor with encoded data",
   "metadata": {
    "formattedRanges": [],
    "cell_id": "36586bb63b64486588949cbad78327d3",
    "tags": [],
    "is_collapsed": false,
    "deepnote_cell_type": "text-cell-h1"
   }
  },
  {
   "cell_type": "code",
   "metadata": {
    "cell_id": "36e4758995424343ac771a91b59d45f2",
    "tags": [],
    "deepnote_to_be_reexecuted": false,
    "source_hash": "c79ea92d",
    "execution_start": 1655013775634,
    "execution_millis": 4085,
    "deepnote_cell_type": "code",
    "deepnote_cell_height": 341
   },
   "source": "# parameters: n_estimators = number of trees\nrand_for_regressor = RandomForestRegressor(n_estimators=100, random_state=30)\nmodel = rand_for_regressor.fit(X_train_enc, y_train_enc)\n\ny2_pred = model.predict(X_test_enc)\n\nprint('Mean Absolute Error:', metrics.mean_absolute_error(y_test_enc, y2_pred))\nprint('Mean Squared Error:', metrics.mean_squared_error(y_test_enc, y2_pred))\nprint('Root Mean Squared Error:', np.sqrt(metrics.mean_squared_error(y_test_enc, y2_pred)))",
   "execution_count": 9,
   "outputs": [
    {
     "name": "stderr",
     "text": "/shared-libs/python3.7/py-core/lib/python3.7/site-packages/ipykernel_launcher.py:3: DataConversionWarning: A column-vector y was passed when a 1d array was expected. Please change the shape of y to (n_samples,), for example using ravel().\n  This is separate from the ipykernel package so we can avoid doing imports until\nMean Absolute Error: 16573.076952054795\nMean Squared Error: 565844472.2408962\nRoot Mean Squared Error: 23787.485622505297\n",
     "output_type": "stream"
    }
   ]
  },
  {
   "cell_type": "code",
   "metadata": {
    "cell_id": "99bf8eaebfd64daf9bd7cd63bc3563be",
    "tags": [],
    "deepnote_to_be_reexecuted": false,
    "source_hash": "7f440e31",
    "execution_start": 1655013779732,
    "execution_millis": 3277,
    "deepnote_cell_type": "code",
    "deepnote_cell_height": 227
   },
   "source": "rand_for_regressor = RandomForestRegressor(n_estimators=100,random_state =30)\nmodel = rand_for_regressor.fit(X_train_enc,y_train_enc)\n\ny2_pred = model.predict(X_test_enc)\n\n",
   "execution_count": 10,
   "outputs": [
    {
     "name": "stderr",
     "text": "/shared-libs/python3.7/py-core/lib/python3.7/site-packages/ipykernel_launcher.py:2: DataConversionWarning: A column-vector y was passed when a 1d array was expected. Please change the shape of y to (n_samples,), for example using ravel().\n  \n",
     "output_type": "stream"
    }
   ]
  },
  {
   "cell_type": "code",
   "metadata": {
    "cell_id": "59fdc498f3bf4ee9bbbeff712c816b32",
    "tags": [],
    "deepnote_to_be_reexecuted": false,
    "source_hash": "9caec2c8",
    "execution_start": 1655013783019,
    "execution_millis": 41,
    "deepnote_cell_type": "code",
    "deepnote_cell_height": 81
   },
   "source": "y2_pred = model.predict(X_test_enc)",
   "execution_count": 11,
   "outputs": []
  },
  {
   "cell_type": "code",
   "metadata": {
    "cell_id": "c458ae88501f4ece8c4ad97d0c0946e5",
    "tags": [],
    "deepnote_to_be_reexecuted": false,
    "source_hash": "9539024d",
    "execution_start": 1655013783060,
    "execution_millis": 16,
    "is_output_hidden": false,
    "deepnote_cell_type": "code",
    "deepnote_cell_height": 443.375,
    "deepnote_output_heights": [
     328.390625
    ]
   },
   "source": "# gets the parameters of the model\nmodel.get_params() ",
   "execution_count": 12,
   "outputs": [
    {
     "output_type": "execute_result",
     "execution_count": 12,
     "data": {
      "text/plain": "{'bootstrap': True,\n 'ccp_alpha': 0.0,\n 'criterion': 'squared_error',\n 'max_depth': None,\n 'max_features': 'auto',\n 'max_leaf_nodes': None,\n 'max_samples': None,\n 'min_impurity_decrease': 0.0,\n 'min_samples_leaf': 1,\n 'min_samples_split': 2,\n 'min_weight_fraction_leaf': 0.0,\n 'n_estimators': 100,\n 'n_jobs': None,\n 'oob_score': False,\n 'random_state': 30,\n 'verbose': 0,\n 'warm_start': False}"
     },
     "metadata": {}
    }
   ]
  },
  {
   "cell_type": "code",
   "metadata": {
    "cell_id": "a710cb29b41d4b14a16a75a06ab5b7bd",
    "tags": [],
    "deepnote_to_be_reexecuted": false,
    "source_hash": "ba14d6a1",
    "execution_start": 1655013783087,
    "execution_millis": 370832,
    "deepnote_cell_type": "code",
    "deepnote_cell_height": 117
   },
   "source": "def rf_feat_importance(m, df):\n    return pd.DataFrame({'cols':df.columns, 'imp':m.feature_importances_}\n                       ).sort_values('imp', ascending=False)",
   "execution_count": 13,
   "outputs": []
  },
  {
   "cell_type": "code",
   "metadata": {
    "cell_id": "8b748665a61a4f7c8c668894528f4d8b",
    "tags": [],
    "deepnote_to_be_reexecuted": false,
    "source_hash": "2ed3385a",
    "execution_start": 1655013783109,
    "execution_millis": 1390,
    "deepnote_cell_type": "code",
    "deepnote_cell_height": 741,
    "deepnote_output_heights": [
     null,
     21.1875,
     413
    ]
   },
   "source": "m = RandomForestRegressor(n_estimators=40, min_samples_leaf=3, \n                          max_features=0.5, n_jobs=-1, \n                          oob_score=True)\nm.fit(X_train_enc, y_train_enc)\n# rf_feat_importance wrapper from Fast.ai\nfi = rf_feat_importance(m, X_train_enc)\nfi[:30].plot('cols', 'imp', 'barh', figsize=(12,7), legend=False)",
   "execution_count": 14,
   "outputs": [
    {
     "name": "stderr",
     "text": "/shared-libs/python3.7/py-core/lib/python3.7/site-packages/ipykernel_launcher.py:4: DataConversionWarning: A column-vector y was passed when a 1d array was expected. Please change the shape of y to (n_samples,), for example using ravel().\n  after removing the cwd from sys.path.\n",
     "output_type": "stream"
    },
    {
     "output_type": "execute_result",
     "execution_count": 14,
     "data": {
      "text/plain": "<AxesSubplot:ylabel='cols'>"
     },
     "metadata": {}
    },
    {
     "data": {
      "text/plain": "<Figure size 864x504 with 1 Axes>",
      "image/png": "[encoded data removed]"
     },
     "metadata": {
      "needs_background": "light",
      "image/png": {
       "width": 779,
       "height": 411
      }
     },
     "output_type": "display_data"
    }
   ]
  },
  {
   "cell_type": "markdown",
   "source": "## Hyperparameter tuning using Grid search",
   "metadata": {
    "formattedRanges": [],
    "cell_id": "913728f7418d40668a364f057462f5bd",
    "tags": [],
    "is_collapsed": false,
    "deepnote_cell_type": "text-cell-h2"
   }
  },
  {
   "cell_type": "markdown",
   "source": "The grid search, will run the randomforestregressor with several different chosen hyperparameter, and choose the scoring combination. The hyperparameters we will check for first is, n_estimators = number of trees, max_features = the number of features to consider when looking for the best split, max_depth = the depth of tree nodes and random_state = we can keep reproduce the same results from our random state.",
   "metadata": {
    "cell_id": "22362f3475c347a6981fb198e93e1e37",
    "tags": [],
    "deepnote_cell_type": "markdown",
    "deepnote_cell_height": 119.59375
   }
  },
  {
   "cell_type": "code",
   "metadata": {
    "cell_id": "599d4e72ace54539be38c2cc81010f1c",
    "tags": [],
    "deepnote_to_be_reexecuted": false,
    "source_hash": "bbf46935",
    "execution_start": 1655013784507,
    "execution_millis": 4,
    "is_output_hidden": false,
    "deepnote_cell_type": "code",
    "deepnote_cell_height": 459,
    "deepnote_output_heights": [
     null,
     98
    ]
   },
   "source": "import datetime\nfrom sklearn.model_selection import RandomizedSearchCV\nfrom sklearn.ensemble import RandomForestRegressor\n\nrfr = RandomForestRegressor(random_state=rsv)\n\n## Define Grid \nparam_grid = { \n    'n_estimators': [1300, 1400, 1500, 1600],\n    'max_features': ['sqrt'],\n    'max_depth' : [12,13,14],\n    'min_samples_split' : [2,3,4],\n    'min_samples_leaf' : [1,2],\n}\n\n## Random Search function\nCV_rfr = RandomizedSearchCV(estimator=rfr, param_distributions=param_grid, cv=5,\nverbose=2, n_iter=100, n_jobs=-1)\n\n# Run these two lines to execute the randomised search\n#gs_result = CV_rfr.fit(X_train7, y_train7)\n#gs_result.best_params_",
   "execution_count": 15,
   "outputs": []
  },
  {
   "cell_type": "code",
   "metadata": {
    "cell_id": "78a2c77bd331402c8a570a77e8b03831",
    "tags": [],
    "deepnote_to_be_reexecuted": false,
    "source_hash": "ea039b5b",
    "execution_start": 1655013784521,
    "execution_millis": 7,
    "deepnote_cell_type": "code",
    "deepnote_cell_height": 310
   },
   "source": "param_grid = { \n    'n_estimators': [50,100,150,200,250,300,350,400],\n    'max_features': ['sqrt','log2','auto'],\n    'max_depth' : [5,6,7,8,9,10],\n    'min_samples_split' : [2,10,20,30],\n    'min_samples_leaf' : [1,3,5,7,9],\n}\n\ncom = 1\nfor x in param_grid.values():\n    com *= len(x)\nprint('There are {} combinations'.format(com))",
   "execution_count": 16,
   "outputs": [
    {
     "name": "stdout",
     "text": "There are 2880 combinations\n",
     "output_type": "stream"
    }
   ]
  },
  {
   "cell_type": "code",
   "metadata": {
    "cell_id": "49a76d935bb840929d1544edb0dde5b4",
    "tags": [],
    "deepnote_to_be_reexecuted": false,
    "source_hash": "277e2a79",
    "execution_start": 1655013784535,
    "execution_millis": 3,
    "deepnote_cell_type": "code",
    "deepnote_cell_height": 112
   },
   "source": "print('This would take {:.0f} years to finish.'.format((100 * com) / (60 * 60 * 24 * 365)))",
   "execution_count": 17,
   "outputs": [
    {
     "name": "stdout",
     "text": "This would take 0 years to finish.\n",
     "output_type": "stream"
    }
   ]
  },
  {
   "cell_type": "code",
   "metadata": {
    "cell_id": "d83f5c3fb4844da197dc89971af9c2f0",
    "tags": [],
    "deepnote_to_be_reexecuted": false,
    "source_hash": "ee292b8d",
    "execution_start": 1655013784581,
    "execution_millis": 6,
    "deepnote_cell_type": "code",
    "deepnote_cell_height": 423
   },
   "source": "from sklearn.model_selection import GridSearchCV\nfrom sklearn.ensemble import RandomForestRegressor\n\nrfr = RandomForestRegressor(random_state=rsv)\n\n## Define Grid \nparam_grid = { \n    'n_estimators': [1300,1400,1500,1600],\n    'max_features': ['sqrt','log2','auto'],\n    'max_depth' : [10,11,12,13,14],\n    'min_samples_split' : [2,3,4,5,6],\n    'min_samples_leaf' : [1,2,3],\n    'bootstrap' : [True, False],\n}\n\n## Grid Search function\nCV_rfr = GridSearchCV(estimator=rfr, param_grid=param_grid, cv=5, verbose=2)\n# Run these two lines to execute the grid search\n#gs_result = CV_rfr.fit(X_train7, y_train7)\n#gs_result.best_params_",
   "execution_count": 18,
   "outputs": []
  },
  {
   "cell_type": "code",
   "metadata": {
    "cell_id": "170761b0fb734fd8818b3f1cb116062d",
    "tags": [],
    "deepnote_to_be_reexecuted": false,
    "source_hash": "16762d98",
    "execution_start": 1655013784581,
    "execution_millis": 1,
    "owner_user_id": "0f63e7a2-8a00-45b5-acb9-44b1409479e2",
    "deepnote_cell_type": "code",
    "deepnote_cell_height": 315
   },
   "source": "best_67_features = ['OverallQual', 'Neighborhood', 'GarageArea', 'GrLivArea', 'YearBuilt',\n       'TotalBsmtSF', 'LotArea', 'GarageCars', 'BsmtQual', 'KitchenQual',\n       'ExterQual', 'GarageYrBlt', 'FirstFlrSF', 'YearRemodAdd', 'MSSubClass',\n       'GarageFinish', 'FullBath', 'FireplaceQu', 'TotRmsAbvGrd', 'GarageType',\n       'LotFrontage', 'Foundation', 'OpenPorchSF', 'Fireplaces', 'HeatingQC',\n       'SecondFlrSF', 'Exterior2nd', 'BsmtFinSF1', 'BsmtFinType1',\n       'Exterior1st', 'BsmtUnfSF', 'MSZoning', 'OverallCond', 'WoodDeckSF',\n       'MasVnrType', 'MasVnrArea', 'SaleCondition', 'LotShape', 'HalfBath',\n       'GarageCond', 'BsmtExposure', 'SaleType', 'HouseStyle', 'BedroomAbvGr',\n       'GarageQual', 'CentralAir', 'BsmtCond', 'Electrical', 'PavedDrive',\n       'BldgType', 'Fence', 'BsmtFinType2', 'BsmtFullBath', 'Alley',\n       'LandContour', 'EnclosedPorch', 'Condition1', 'KitchenAbvGr',\n       'ExterCond', 'ScreenPorch', 'Heating', 'LotConfig', 'BsmtHalfBath',\n       'RoofStyle', 'Functional', 'LowQualFinSF', 'RoofMatl']",
   "execution_count": 19,
   "outputs": []
  },
  {
   "cell_type": "markdown",
   "source": "<a style='text-decoration:none;line-height:16px;display:flex;color:#5B5B62;padding:10px;justify-content:end;' href='https://deepnote.com?utm_source=created-in-deepnote-cell&projectId=a79dfa2f-1b6b-4b40-b0ca-7dec9e2a123f' target=\"_blank\">\n<img alt='Created in deepnote.com' style='display:inline;max-height:16px;margin:0px;margin-right:7.5px;' src='data:image/svg+xml;base64,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' > </img>\nCreated in <span style='font-weight:600;margin-left:4px;'>Deepnote</span></a>",
   "metadata": {
    "tags": [],
    "created_in_deepnote_cell": true,
    "deepnote_cell_type": "markdown"
   }
  }
 ],
 "nbformat": 4,
 "nbformat_minor": 2,
 "metadata": {
  "orig_nbformat": 2,
  "deepnote": {},
  "deepnote_notebook_id": "1f4466c1-4773-401d-b54a-c8e07f506985",
  "deepnote_execution_queue": []
 }
}